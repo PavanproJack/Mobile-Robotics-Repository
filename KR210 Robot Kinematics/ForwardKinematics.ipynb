{
 "cells": [
  {
   "cell_type": "code",
   "execution_count": 1,
   "metadata": {},
   "outputs": [],
   "source": [
    "from sympy import cos, sin, pi, simplify, symbols, sqrt, atan2\n",
    "from sympy.matrices import Matrix\n",
    "import numpy as np"
   ]
  },
  {
   "cell_type": "code",
   "execution_count": 2,
   "metadata": {},
   "outputs": [],
   "source": [
    "q1, q2, q3, q4, q5, q6, q7 = symbols('q1:8')  #Theta\n",
    "d1, d2, d3, d4, d5, d6, d7 = symbols('d1:8')  #d-offset\n",
    "\n",
    "a0, a1, a2, a3, a4, a5, a6 = symbols('a0:7')  #\n",
    "alpha0, alpha1, alpha2, alpha3, alpha4, alpha5, alpha6 = symbols('alpha0:7')  # alpha twist angle.."
   ]
  },
  {
   "cell_type": "code",
   "execution_count": 3,
   "metadata": {},
   "outputs": [],
   "source": [
    "#DH Parameters Dictionary\n",
    "\n",
    "dh = {\n",
    "    a0: 0,      alpha0: 0,      q1: q1,        d1: 0.75,\n",
    "    a1: 0.35,   alpha1: pi/2,   q2: q2,        d2: 0.00,\n",
    "    a2: 1.25,   alpha2: 0,      q3: q3 + pi/2, d3: 0.00,\n",
    "    a3: -0.054, alpha3: pi/2,   q4: q4,        d4: 1.50,\n",
    "    a4: 0,      alpha4: pi/2,   q5: q5,        d5: 0.00,\n",
    "    a5: 0,      alpha5: pi/2,   q6: q6,        d6: 0.00,\n",
    "    a6: 0,      alpha6: 0,      q7: 0,         d7: 0.303\n",
    "}"
   ]
  },
  {
   "cell_type": "code",
   "execution_count": 4,
   "metadata": {},
   "outputs": [],
   "source": [
    "#Homogeneous Transformations\n",
    "\n",
    "T0_1 = Matrix([[cos(q1),             -sin(q1),            0,            a0],\n",
    "               [sin(q1)*cos(alpha0), cos(alpha0)*cos(q1), -sin(alpha0), -sin(alpha0)*d1],\n",
    "               [sin(alpha0)*sin(q1), sin(alpha0)*cos(q1), cos(alpha0),  cos(alpha0)*d1],\n",
    "               [0,                   0,                   0,            1]])\n",
    "\n",
    "T1_2 = Matrix([[cos(q2),             -sin(q2),            0,            a1],\n",
    "               [sin(q2)*cos(alpha1), cos(alpha1)*cos(q2), -sin(alpha1), -sin(alpha1)*d2],\n",
    "               [sin(alpha1)*sin(q2), sin(alpha1)*cos(q2), cos(alpha1),  cos(alpha1)*d2],\n",
    "               [0,                   0,                   0,            1]])\n",
    "\n",
    "T2_3 = Matrix([[cos(q3),             -sin(q3),            0,            a2],\n",
    "               [sin(q3)*cos(alpha2), cos(alpha2)*cos(q3), -sin(alpha2), -sin(alpha2)*d3],\n",
    "               [sin(alpha2)*sin(q3), sin(alpha2)*cos(q3), cos(alpha2),  cos(alpha2)*d3],\n",
    "               [0,                   0,                   0,            1]])\n",
    "\n",
    "T3_4 = Matrix([[cos(q4),             -sin(q4),            0,            a3],\n",
    "               [sin(q4)*cos(alpha3), cos(alpha3)*cos(q4), -sin(alpha3), -sin(alpha3)*d4],\n",
    "               [sin(alpha3)*sin(q4), sin(alpha3)*cos(q4), cos(alpha3),  cos(alpha3)*d4],\n",
    "               [0,                   0,                   0,            1]])\n",
    "\n",
    "T4_5 = Matrix([[cos(q5),             -sin(q5),            0,            a4],\n",
    "               [sin(q5)*cos(alpha4), cos(alpha4)*cos(q5), -sin(alpha4), -sin(alpha4)*d5],\n",
    "               [sin(alpha4)*sin(q5), sin(alpha4)*cos(q5), cos(alpha4),  cos(alpha4)*d5],\n",
    "               [0,                   0,                   0,            1]])\n",
    "\n",
    "T5_6 = Matrix([[cos(q6),             -sin(q6),            0,            a5],\n",
    "               [sin(q6)*cos(alpha5), cos(alpha5)*cos(q6), -sin(alpha5), -sin(alpha5)*d6],\n",
    "               [sin(alpha5)*sin(q6), sin(alpha5)*cos(q6), cos(alpha5),  cos(alpha5)*d6],\n",
    "               [0,                   0,                   0,            1]])\n",
    "\n",
    "T6_G = Matrix([[cos(q7),             -sin(q7),            0,            a6],\n",
    "               [sin(q7)*cos(alpha6), cos(alpha6)*cos(q7), -sin(alpha6), -sin(alpha6)*d7],\n",
    "               [sin(alpha6)*sin(q7), sin(alpha6)*cos(q7), cos(alpha6),  cos(alpha6)*d7],\n",
    "               [0,                   0,                   0,            1]])\n"
   ]
  },
  {
   "cell_type": "code",
   "execution_count": 5,
   "metadata": {},
   "outputs": [],
   "source": [
    "T0_1 = T0_1.subs(dh)\n",
    "T1_2 = T1_2.subs(dh)\n",
    "T2_3 = T2_3.subs(dh)\n",
    "T3_4 = T3_4.subs(dh)\n",
    "T4_5 = T4_5.subs(dh)\n",
    "T5_6 = T5_6.subs(dh)\n",
    "T6_G = T6_G.subs(dh)"
   ]
  },
  {
   "cell_type": "code",
   "execution_count": 6,
   "metadata": {},
   "outputs": [
    {
     "name": "stdout",
     "output_type": "stream",
     "text": [
      "Matrix([[1, 0, 0, 0], [0, 1, 0, 0], [0, 0, 1, 0.303000000000000], [0, 0, 0, 1]])\n"
     ]
    }
   ],
   "source": [
    "print(T6_G)"
   ]
  },
  {
   "cell_type": "code",
   "execution_count": 7,
   "metadata": {},
   "outputs": [],
   "source": [
    "T0_G = simplify(T0_1 * T1_2 * T2_3 * T3_4 * T4_5 * T5_6 * T6_G)"
   ]
  },
  {
   "cell_type": "code",
   "execution_count": 8,
   "metadata": {},
   "outputs": [
    {
     "name": "stdout",
     "output_type": "stream",
     "text": [
      "Matrix([[((sin(q1)*sin(q4) - sin(q2 + q3)*cos(q1)*cos(q4))*cos(q5) + sin(q5)*cos(q1)*cos(q2 + q3))*cos(q6) - (sin(q1)*cos(q4) + sin(q4)*sin(q2 + q3)*cos(q1))*sin(q6), ((-sin(q1)*sin(q4) + sin(q2 + q3)*cos(q1)*cos(q4))*cos(q5) - sin(q5)*cos(q1)*cos(q2 + q3))*sin(q6) - (sin(q1)*cos(q4) + sin(q4)*sin(q2 + q3)*cos(q1))*cos(q6), (sin(q1)*sin(q4) - sin(q2 + q3)*cos(q1)*cos(q4))*sin(q5) - cos(q1)*cos(q5)*cos(q2 + q3), 0.303*sin(q1)*sin(q4)*sin(q5) - 0.303*sin(q5)*sin(q2 + q3)*cos(q1)*cos(q4) + 0.054*sin(q2 + q3)*cos(q1) + 1.25*cos(q1)*cos(q2) - 0.303*cos(q1)*cos(q5)*cos(q2 + q3) + 1.5*cos(q1)*cos(q2 + q3) + 0.35*cos(q1)], [-((sin(q1)*sin(q2 + q3)*cos(q4) + sin(q4)*cos(q1))*cos(q5) - sin(q1)*sin(q5)*cos(q2 + q3))*cos(q6) - (sin(q1)*sin(q4)*sin(q2 + q3) - cos(q1)*cos(q4))*sin(q6), ((sin(q1)*sin(q2 + q3)*cos(q4) + sin(q4)*cos(q1))*cos(q5) - sin(q1)*sin(q5)*cos(q2 + q3))*sin(q6) - (sin(q1)*sin(q4)*sin(q2 + q3) - cos(q1)*cos(q4))*cos(q6), -(sin(q1)*sin(q2 + q3)*cos(q4) + sin(q4)*cos(q1))*sin(q5) - sin(q1)*cos(q5)*cos(q2 + q3), -0.303*sin(q1)*sin(q5)*sin(q2 + q3)*cos(q4) + 0.054*sin(q1)*sin(q2 + q3) + 1.25*sin(q1)*cos(q2) - 0.303*sin(q1)*cos(q5)*cos(q2 + q3) + 1.5*sin(q1)*cos(q2 + q3) + 0.35*sin(q1) - 0.303*sin(q4)*sin(q5)*cos(q1)], [(sin(q5)*sin(q2 + q3) + cos(q4)*cos(q5)*cos(q2 + q3))*cos(q6) + sin(q4)*sin(q6)*cos(q2 + q3), -(sin(q5)*sin(q2 + q3) + cos(q4)*cos(q5)*cos(q2 + q3))*sin(q6) + sin(q4)*cos(q6)*cos(q2 + q3), sin(q5)*cos(q4)*cos(q2 + q3) - sin(q2 + q3)*cos(q5), 1.25*sin(q2) + 0.303*sin(q5)*cos(q4)*cos(q2 + q3) - 0.303*sin(q2 + q3)*cos(q5) + 1.5*sin(q2 + q3) - 0.054*cos(q2 + q3) + 0.75], [0, 0, 0, 1]])\n"
     ]
    }
   ],
   "source": [
    "print(T0_G)"
   ]
  },
  {
   "cell_type": "code",
   "execution_count": 28,
   "metadata": {},
   "outputs": [
    {
     "name": "stdout",
     "output_type": "stream",
     "text": [
      "Matrix([[((sin(q1)*sin(q4) - sin(q2 + q3)*cos(q1)*cos(q4))*cos(q5) + sin(q5)*cos(q1)*cos(q2 + q3))*cos(q6) - (sin(q1)*cos(q4) + sin(q4)*sin(q2 + q3)*cos(q1))*sin(q6), -((sin(q1)*sin(q4) - sin(q2 + q3)*cos(q1)*cos(q4))*cos(q5) + sin(q5)*cos(q1)*cos(q2 + q3))*sin(q6) - (sin(q1)*cos(q4) + sin(q4)*sin(q2 + q3)*cos(q1))*cos(q6), (sin(q1)*sin(q4) - sin(q2 + q3)*cos(q1)*cos(q4))*sin(q5) - cos(q1)*cos(q5)*cos(q2 + q3), 0.303*(sin(q1)*sin(q4) - sin(q2 + q3)*cos(q1)*cos(q4))*sin(q5) + (0.054*sin(q2 + q3) + 1.25*cos(q2) + 1.5*cos(q2 + q3) + 0.35)*cos(q1) - 0.303*cos(q1)*cos(q5)*cos(q2 + q3)], [-((sin(q1)*sin(q2 + q3)*cos(q4) + sin(q4)*cos(q1))*cos(q5) - sin(q1)*sin(q5)*cos(q2 + q3))*cos(q6) - (sin(q1)*sin(q4)*sin(q2 + q3) - cos(q1)*cos(q4))*sin(q6), ((sin(q1)*sin(q2 + q3)*cos(q4) + sin(q4)*cos(q1))*cos(q5) - sin(q1)*sin(q5)*cos(q2 + q3))*sin(q6) - (sin(q1)*sin(q4)*sin(q2 + q3) - cos(q1)*cos(q4))*cos(q6), -(sin(q1)*sin(q2 + q3)*cos(q4) + sin(q4)*cos(q1))*sin(q5) - sin(q1)*cos(q5)*cos(q2 + q3), -0.303*(sin(q1)*sin(q2 + q3)*cos(q4) + sin(q4)*cos(q1))*sin(q5) + (0.054*sin(q2 + q3) + 1.25*cos(q2) + 1.5*cos(q2 + q3) + 0.35)*sin(q1) - 0.303*sin(q1)*cos(q5)*cos(q2 + q3)], [(sin(q5)*sin(q2 + q3) + cos(q4)*cos(q5)*cos(q2 + q3))*cos(q6) + sin(q4)*sin(q6)*cos(q2 + q3), -(sin(q5)*sin(q2 + q3) + cos(q4)*cos(q5)*cos(q2 + q3))*sin(q6) + sin(q4)*cos(q6)*cos(q2 + q3), sin(q5)*cos(q4)*cos(q2 + q3) - sin(q2 + q3)*cos(q5), 1.25*sin(q2) + 0.303*sin(q5)*cos(q4)*cos(q2 + q3) - 0.303*sin(q2 + q3)*cos(q5) + 1.5*sin(q2 + q3) - 0.054*cos(q2 + q3) + 0.75], [0, 0, 0, 1]])\n"
     ]
    }
   ],
   "source": [
    "T0_2 = simplify(T0_1 * T1_2)\n",
    "T0_3 = simplify(T0_2 * T2_3)\n",
    "T0_4 = simplify(T0_3 * T3_4)\n",
    "T0_5 = simplify(T0_4 * T4_5)\n",
    "T0_6 = simplify(T0_5 * T5_6)\n",
    "T0_G = simplify(T0_6 * T6_G)\n",
    "\n",
    "print(T0_G)"
   ]
  },
  {
   "cell_type": "code",
   "execution_count": 10,
   "metadata": {},
   "outputs": [],
   "source": [
    "# Correction for gripper link final axis orientation.\n",
    "R_y = Matrix([[cos(-pi/2),  0, sin(-pi/2), 0],\n",
    "\t      [0,           1, 0,           0],\n",
    "\t      [-sin(-pi/2), 0, cos(-pi/2),  0],\n",
    "\t      [0, 0, 0, 1]])\n",
    "R_z = Matrix([[cos(pi), -sin(pi), 0,  0],\n",
    "\t      [sin(pi), cos(pi),  0,  0],\n",
    "\t      [0, 0, 1, 0],\n",
    "\t      [0, 0, 0, 1]])\n",
    "\n",
    "R_cor = simplify(R_z * R_y)\n",
    "T_total = simplify(T0_G * R_cor)"
   ]
  },
  {
   "cell_type": "code",
   "execution_count": 11,
   "metadata": {},
   "outputs": [
    {
     "name": "stdout",
     "output_type": "stream",
     "text": [
      "Matrix([[0, 0, -1, 0], [0, 1, 0, 0], [1, 0, 0, 0], [0, 0, 0, 1]])\n"
     ]
    }
   ],
   "source": [
    "print(R_y)"
   ]
  },
  {
   "cell_type": "code",
   "execution_count": 12,
   "metadata": {},
   "outputs": [
    {
     "name": "stdout",
     "output_type": "stream",
     "text": [
      "Total =  Matrix([[0.486634700919385, -0.210912373212720, -0.847763315251892, 1.81095620663497], [0.694910440520268, -0.494636033789280, 0.521952750479522, -2.21683181038251], [-0.529420577156790, -0.843119899482267, -0.0941418481865706, 0.549328302259311], [0, 0, 0, 1.00000000000000]])\n"
     ]
    }
   ],
   "source": [
    "print(\"Total = \", T_total.evalf(subs={q1:-0.97, q2:-0.39, q3:0.72, q4:1.10, q5:-1.10, q6:0}))"
   ]
  },
  {
   "cell_type": "code",
   "execution_count": 16,
   "metadata": {},
   "outputs": [
    {
     "name": "stdout",
     "output_type": "stream",
     "text": [
      "(4, 4)\n"
     ]
    }
   ],
   "source": [
    "print(T_total.shape)"
   ]
  },
  {
   "cell_type": "code",
   "execution_count": 21,
   "metadata": {},
   "outputs": [
    {
     "name": "stdout",
     "output_type": "stream",
     "text": [
      "Matrix([[(sin(q1)*sin(q4) - sin(q2 + q3)*cos(q1)*cos(q4))*sin(q5) - cos(q1)*cos(q5)*cos(q2 + q3), ((sin(q1)*sin(q4) - sin(q2 + q3)*cos(q1)*cos(q4))*cos(q5) + sin(q5)*cos(q1)*cos(q2 + q3))*sin(q6) + (sin(q1)*cos(q4) + sin(q4)*sin(q2 + q3)*cos(q1))*cos(q6), ((sin(q1)*sin(q4) - sin(q2 + q3)*cos(q1)*cos(q4))*cos(q5) + sin(q5)*cos(q1)*cos(q2 + q3))*cos(q6) - (sin(q1)*cos(q4) + sin(q4)*sin(q2 + q3)*cos(q1))*sin(q6)], [-(sin(q1)*sin(q2 + q3)*cos(q4) + sin(q4)*cos(q1))*sin(q5) - sin(q1)*cos(q5)*cos(q2 + q3), -((sin(q1)*sin(q2 + q3)*cos(q4) + sin(q4)*cos(q1))*cos(q5) - sin(q1)*sin(q5)*cos(q2 + q3))*sin(q6) + (sin(q1)*sin(q4)*sin(q2 + q3) - cos(q1)*cos(q4))*cos(q6), -((sin(q1)*sin(q2 + q3)*cos(q4) + sin(q4)*cos(q1))*cos(q5) - sin(q1)*sin(q5)*cos(q2 + q3))*cos(q6) - (sin(q1)*sin(q4)*sin(q2 + q3) - cos(q1)*cos(q4))*sin(q6)], [sin(q5)*cos(q4)*cos(q2 + q3) - sin(q2 + q3)*cos(q5), (sin(q5)*sin(q2 + q3) + cos(q4)*cos(q5)*cos(q2 + q3))*sin(q6) - sin(q4)*cos(q6)*cos(q2 + q3), (sin(q5)*sin(q2 + q3) + cos(q4)*cos(q5)*cos(q2 + q3))*cos(q6) + sin(q4)*sin(q6)*cos(q2 + q3)]])\n",
      "Matrix([[(sin(q1)*sin(q4) - sin(q2 + q3)*cos(q1)*cos(q4))*sin(q5) - cos(q1)*cos(q5)*cos(q2 + q3), -(sin(q1)*sin(q2 + q3)*cos(q4) + sin(q4)*cos(q1))*sin(q5) - sin(q1)*cos(q5)*cos(q2 + q3), sin(q5)*cos(q4)*cos(q2 + q3) - sin(q2 + q3)*cos(q5)], [((sin(q1)*sin(q4) - sin(q2 + q3)*cos(q1)*cos(q4))*cos(q5) + sin(q5)*cos(q1)*cos(q2 + q3))*sin(q6) + (sin(q1)*cos(q4) + sin(q4)*sin(q2 + q3)*cos(q1))*cos(q6), -((sin(q1)*sin(q2 + q3)*cos(q4) + sin(q4)*cos(q1))*cos(q5) - sin(q1)*sin(q5)*cos(q2 + q3))*sin(q6) + (sin(q1)*sin(q4)*sin(q2 + q3) - cos(q1)*cos(q4))*cos(q6), (sin(q5)*sin(q2 + q3) + cos(q4)*cos(q5)*cos(q2 + q3))*sin(q6) - sin(q4)*cos(q6)*cos(q2 + q3)], [((sin(q1)*sin(q4) - sin(q2 + q3)*cos(q1)*cos(q4))*cos(q5) + sin(q5)*cos(q1)*cos(q2 + q3))*cos(q6) - (sin(q1)*cos(q4) + sin(q4)*sin(q2 + q3)*cos(q1))*sin(q6), -((sin(q1)*sin(q2 + q3)*cos(q4) + sin(q4)*cos(q1))*cos(q5) - sin(q1)*sin(q5)*cos(q2 + q3))*cos(q6) - (sin(q1)*sin(q4)*sin(q2 + q3) - cos(q1)*cos(q4))*sin(q6), (sin(q5)*sin(q2 + q3) + cos(q4)*cos(q5)*cos(q2 + q3))*cos(q6) + sin(q4)*sin(q6)*cos(q2 + q3)]])\n"
     ]
    }
   ],
   "source": [
    "c = T_total[0:3, 0:3]\n",
    "print(c)\n",
    "print(c.T)"
   ]
  },
  {
   "cell_type": "code",
   "execution_count": null,
   "metadata": {},
   "outputs": [],
   "source": []
  }
 ],
 "metadata": {
  "kernelspec": {
   "display_name": "Python 3",
   "language": "python",
   "name": "python3"
  },
  "language_info": {
   "codemirror_mode": {
    "name": "ipython",
    "version": 3
   },
   "file_extension": ".py",
   "mimetype": "text/x-python",
   "name": "python",
   "nbconvert_exporter": "python",
   "pygments_lexer": "ipython3",
   "version": "3.8.2"
  }
 },
 "nbformat": 4,
 "nbformat_minor": 4
}

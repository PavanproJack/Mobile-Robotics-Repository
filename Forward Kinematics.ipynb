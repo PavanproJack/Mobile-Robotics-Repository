{
 "cells": [
  {
   "cell_type": "code",
   "execution_count": 1,
   "metadata": {},
   "outputs": [],
   "source": [
    "import numpy as np\n",
    "import matplotlib.pyplot as plt\n"
   ]
  },
  {
   "cell_type": "code",
   "execution_count": 2,
   "metadata": {},
   "outputs": [],
   "source": [
    "def compute_arm_config(link1_length, link2_length, joint0_angle, joint1_angle):\n",
    "    \n",
    "    joint1_x = link1_length * np.cos(joint0_angle)\n",
    "    joint1_y = link1_length * np.sin(joint0_angle)\n",
    "    p2_x     = link1_length * np.cos(joint0_angle + joint1_angle)\n",
    "    p2_y     = link1_length * np.sin(joint0_angle + joint1_angle)\n",
    "    \n",
    "    return joint1_x, joint1_y, p2_x, p2_y"
   ]
  },
  {
   "cell_type": "code",
   "execution_count": 10,
   "metadata": {},
   "outputs": [],
   "source": [
    "# np.random.random() returns random floats in the half-open interval [0.0, 1.0) in uniform distribution\n",
    "link1_length = np.random.random() * 10 + 20\n",
    "link2_length = np.random.random() * 10 + 20\n",
    "joint0_angle = np.random.random() * 2 * np.pi\n",
    "joint1_angle = np.random.random() * 2 * np.pi\n",
    "\n",
    "joint1_x, joint1_y, p2_x, p2_y = compute_arm_config(link1_length, link2_length, joint0_angle, joint1_angle)\n",
    "\n"
   ]
  },
  {
   "cell_type": "code",
   "execution_count": 11,
   "metadata": {},
   "outputs": [
    {
     "name": "stdout",
     "output_type": "stream",
     "text": [
      "joint0_angle = 10.8 degrees\n",
      "joint1_angle = 299.7 degrees\n",
      "End Effector at x = 14.2 y = -16.7\n"
     ]
    }
   ],
   "source": [
    "print(\"joint0_angle =\", round(joint0_angle * 180 / np.pi, 1), \"degrees\") \n",
    "print(\"joint1_angle =\", round(joint1_angle * 180 / np.pi, 1),\"degrees\") \n",
    "print(\"End Effector at x =\", round(p2_x, 1),\"y =\", round(p2_y, 1))\n",
    "base_x = 0\n",
    "base_y = 0"
   ]
  },
  {
   "cell_type": "code",
   "execution_count": 12,
   "metadata": {
    "scrolled": true
   },
   "outputs": [
    {
     "data": {
      "image/png": "[encoded data removed]",
      "text/plain": [
       "<Figure size 432x288 with 1 Axes>"
      ]
     },
     "metadata": {
      "needs_background": "light"
     },
     "output_type": "display_data"
    }
   ],
   "source": [
    "plt.plot([base_x, joint1_x, p2_x],[base_y, joint1_y, p2_y])\n",
    "plt.plot(base_x, base_y, 'bs', markersize=15, label='Base')\n",
    "# Plot Joint-1 as a red circle\n",
    "plt.plot(joint1_x, joint1_y, 'ro', markersize=15, label='Joint-1')\n",
    "# Plot End Effector as a green triangle\n",
    "plt.plot(p2_x, p2_y, 'g^', markersize=15, label='End Effector')\n",
    "plt.xlim(-100, 100)\n",
    "plt.ylim(-100, 100)\n",
    "plt.legend(fontsize=15)\n",
    "plt.show() #Uncomment to run locally"
   ]
  },
  {
   "cell_type": "code",
   "execution_count": null,
   "metadata": {},
   "outputs": [],
   "source": []
  }
 ],
 "metadata": {
  "kernelspec": {
   "display_name": "Python 3",
   "language": "python",
   "name": "python3"
  },
  "language_info": {
   "codemirror_mode": {
    "name": "ipython",
    "version": 3
   },
   "file_extension": ".py",
   "mimetype": "text/x-python",
   "name": "python",
   "nbconvert_exporter": "python",
   "pygments_lexer": "ipython3",
   "version": "3.8.2"
  }
 },
 "nbformat": 4,
 "nbformat_minor": 4
}

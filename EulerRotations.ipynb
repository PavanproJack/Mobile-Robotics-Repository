{
 "cells": [
  {
   "cell_type": "markdown",
   "metadata": {},
   "source": [
    "# Rotation Matrices in Sympy"
   ]
  },
  {
   "cell_type": "code",
   "execution_count": 3,
   "metadata": {},
   "outputs": [],
   "source": [
    "from sympy import cos, sin, pi, simplify, symbols, sqrt, atan2\n",
    "from sympy.matrices import Matrix\n",
    "import numpy as np"
   ]
  },
  {
   "cell_type": "code",
   "execution_count": 4,
   "metadata": {},
   "outputs": [],
   "source": [
    "#Degrees to Radians\n",
    "dtr = np.pi/180\n",
    "#Radians to Degrees\n",
    "rtd = 180 / np.pi\n",
    "\n",
    "#  Joint angles\n",
    "q1, q2, q3, q4 = symbols('q1:5')\n",
    "\n",
    "# Define Rotation Matrices around X, Y, and Z\n",
    "R_x = Matrix([[1,    0,         0 ],\n",
    "              [0,   cos(q1), -sin(q1)],\n",
    "              [0,   sin(q1),  cos(q1)]\n",
    "             ])\n",
    "\n",
    "R_y = Matrix([[cos(q2),    0,   sin(q2)],\n",
    "              [   0    ,   1 ,    0    ],\n",
    "              [-sin(q2) ,  0  , cos(q2)]\n",
    "             ])\n",
    "\n",
    "R_z = Matrix([[cos(q3),  -sin(q3),   0],\n",
    "              [sin(q3) , cos(q3)  ,  0],\n",
    "              [  0      ,   0      , 0],\n",
    "             ])\n"
   ]
  },
  {
   "cell_type": "code",
   "execution_count": 5,
   "metadata": {},
   "outputs": [
    {
     "name": "stdout",
     "output_type": "stream",
     "text": [
      "Matrix([[1.00000000000000, 0, 0], [0, 0.707106781186548, -0.707106781186547], [0, 0.707106781186547, 0.707106781186548]]) Matrix([[0.500000000000000, 0, 0.866025403784439], [0, 1.00000000000000, 0], [-0.866025403784439, 0, 0.500000000000000]]) Matrix([[0.258819045102521, -0.965925826289068, 0], [0.965925826289068, 0.258819045102521, 0], [0, 0, 0]])\n"
     ]
    }
   ],
   "source": [
    "x_Rot, y_Rot, z_Rot = R_x.evalf(subs = {q1: 45*dtr}), R_y.evalf(subs = {q2: 60*dtr}), R_z.evalf(subs = {q3: 75*dtr})\n",
    "print(x_Rot, y_Rot, z_Rot)"
   ]
  },
  {
   "cell_type": "markdown",
   "metadata": {},
   "source": [
    "# Composition of Rotations"
   ]
  },
  {
   "cell_type": "code",
   "execution_count": 6,
   "metadata": {},
   "outputs": [
    {
     "name": "stdout",
     "output_type": "stream",
     "text": [
      "Matrix([[0.353553390593274, -0.612372435695795, 0], [0.866025403784439, 0.500000000000000, 0], [-0.353553390593274, 0.612372435695794, 0]])\n",
      "Matrix([[0.353553390593274, -0.866025403784439, 0.353553390593274], [0.612372435695795, 0.500000000000000, 0.612372435695794], [0, 0, 0]])\n"
     ]
    }
   ],
   "source": [
    "#Intrinsic Rotations\n",
    "#YZ_intrinsic = symbols('YZ_intrinsic')\n",
    "\n",
    "YZ_intrinsic = R_y.evalf(subs = {q2: 45*dtr}) * R_z.evalf(subs = {q3: 60*dtr})\n",
    "\n",
    "print(YZ_intrinsic)\n",
    "\n",
    "\n",
    "YZ_extrinsic = R_z.evalf(subs = {q3: 60*dtr}) * R_y.evalf(subs = {q2: 45*dtr})\n",
    "print(YZ_extrinsic)\n"
   ]
  },
  {
   "cell_type": "markdown",
   "metadata": {},
   "source": [
    "# Euler Angles from a Rotation Matrix"
   ]
  },
  {
   "cell_type": "code",
   "execution_count": 7,
   "metadata": {},
   "outputs": [
    {
     "name": "stdout",
     "output_type": "stream",
     "text": [
      "45.0000000000000 60.0000000000000 30.0000000000000\n"
     ]
    }
   ],
   "source": [
    "# Extrinsic (Fixed Axis) X-Y-Z Rotation Matrix\n",
    "R_XYZ = Matrix([[ 0.353553390593274, -0.306186217847897, 0.883883476483184],\n",
    "            [ 0.353553390593274,  0.918558653543692, 0.176776695296637],\n",
    "            [-0.866025403784439,               0.25, 0.433012701892219]])\n",
    "\n",
    "# beta = atan2(-r31, sqrt(r11*r11  +  r21*r21))\n",
    "# alpha = atan2(r21, r11)\n",
    "# gamma = atan2(r32, r33)\n",
    "\n",
    "'''r11 = 0.353553390593274\n",
    "r21 = 0.353553390593274\n",
    "r31 = -0.866025403784439\n",
    "r32 = 0.25\n",
    "r33 = 0.433012701892219'''\n",
    "\n",
    "r11 = R_XYZ[0, 0]\n",
    "r21 = R_XYZ[1, 0]\n",
    "r31 = R_XYZ[2, 0]\n",
    "r32 = R_XYZ[2, 1]\n",
    "r33 = R_XYZ[2, 2]\n",
    "\n",
    "beta = atan2(-r31, sqrt(r11 * r11  +  r21 * r21))\n",
    "alpha = atan2(r21, r11)\n",
    "gamma = atan2(r32, r33)\n",
    "\n",
    "print(alpha * rtd, beta * rtd, gamma * rtd)"
   ]
  },
  {
   "cell_type": "markdown",
   "metadata": {},
   "source": [
    "# Homogeneous Transformations and their Inverse"
   ]
  },
  {
   "cell_type": "code",
   "execution_count": 8,
   "metadata": {},
   "outputs": [],
   "source": [
    "# Problem Statement:\n",
    "  # Let P be a vector expressed in frame {B} with (x,y,z)\n",
    "  # coordinates = (15.0, 0.0, 42.0)\n",
    "  # Rotate P about the Y-axis by angle = 110 degrees. \n",
    "  # Then translate the vector 1 unit\n",
    "  # in the X-axis and 30 units in the Z-axis. \n",
    "  # Print the new (x, y, z) coordinates of P after the transformation. "
   ]
  },
  {
   "cell_type": "code",
   "execution_count": 17,
   "metadata": {},
   "outputs": [
    {
     "name": "stdout",
     "output_type": "stream",
     "text": [
      "Matrix([[15.0000000000000], [0.0], [42.0000000000000], [1]])\n",
      "Matrix([[35.3367879231231], [0], [1.53976466853329], [1.00000000000000]])\n"
     ]
    }
   ],
   "source": [
    "pointVector = Matrix([[15.0], [0.0], [42.0], [1]])\n",
    "print(pointVector)\n",
    "q_y, t_x, t_y, t_z  = symbols('q_y, t_x, t_y, t_z')\n",
    "\n",
    "transformationMatrix = Matrix([[cos(q_y),   0,   sin(q_y), t_x],\n",
    "                              [   0    ,    1,      0    , t_y],\n",
    "                              [-sin(q_y) ,  0 ,  cos(q_y), t_z],\n",
    "                              [   0 ,       0 ,      0,     1 ]\n",
    "                             ])\n",
    "transformedVector = simplify(transformationMatrix * pointVector)\n",
    "\n",
    "th = transformedVector.evalf(subs = {q_y: 110 * dtr, t_x: 1.0, t_y: 0.0, t_z: 30.0})\n",
    "\n",
    "print(th)"
   ]
  },
  {
   "cell_type": "code",
   "execution_count": 18,
   "metadata": {},
   "outputs": [
    {
     "data": {
      "text/plain": [
       "'\\nThe following steps are taken to obtain coordinate frame E from frame A.\\n\\nFrom Frame A to B to E:\\n\\nFrame A: Located at [0, 0, 0]\\nFrame B: Rotate Frame A about a_y by -90 degrees. Translate A by [-2, 2, 4]\\nFrame E: Rotate Frame B about b_x by 90 degrees. Translate B by [0, 2, 0]\\nFrom Frame A to C to D to E:\\n\\nFrame C: Translate A by [4, 4, 0]\\nFrame D: Rotate Frame C about c_x by 90 degrees. Translate C by [-3, 3, 2]\\nFrame E: Rotate Frame D about d_Z by 90 degrees. Translate D by [-3, 2, 3]\\n'"
      ]
     },
     "execution_count": 18,
     "metadata": {},
     "output_type": "execute_result"
    }
   ],
   "source": [
    "'''\n",
    "The following steps are taken to obtain coordinate frame E from frame A.\n",
    "\n",
    "From Frame A to B to E:\n",
    "\n",
    "Frame A: Located at [0, 0, 0]\n",
    "Frame B: Rotate Frame A about a_y by -90 degrees. Translate A by [-2, 2, 4]\n",
    "Frame E: Rotate Frame B about b_x by 90 degrees. Translate B by [0, 2, 0]\n",
    "From Frame A to C to D to E:\n",
    "\n",
    "Frame C: Translate A by [4, 4, 0]\n",
    "Frame D: Rotate Frame C about c_x by 90 degrees. Translate C by [-3, 3, 2]\n",
    "Frame E: Rotate Frame D about d_Z by 90 degrees. Translate D by [-3, 2, 3]\n",
    "'''"
   ]
  },
  {
   "cell_type": "code",
   "execution_count": 28,
   "metadata": {},
   "outputs": [],
   "source": [
    "def rot_x(q1):\n",
    "    R_x = Matrix([[1,    0,         0 ],\n",
    "              [0,   cos(q1), -sin(q1)],\n",
    "              [0,   sin(q1),  cos(q1)],\n",
    "              [0,0,0]\n",
    "             ])\n",
    "    return R_x\n",
    "    \n",
    "def rot_y(q2):              \n",
    "    R_y = Matrix([[cos(q2),    0,   sin(q2)],\n",
    "              [   0    ,   1 ,    0    ],\n",
    "              [-sin(q2) ,  0  , cos(q2)],\n",
    "              [0,0,0]\n",
    "             ])\n",
    "    return R_y\n",
    "\n",
    "def rot_z(q3):    \n",
    "    R_z = Matrix([[cos(q3),  -sin(q3),   0],\n",
    "              [sin(q3) , cos(q3)  ,  0],\n",
    "              [  0      ,   0      , 0],\n",
    "              [0,0,0]\n",
    "             ])\n",
    "    return R_z\n",
    "\n",
    "def zeroRotation():\n",
    "    R_0 = Matrix([[1, 0, 0],\n",
    "                  [0, 1, 0],\n",
    "                  [0, 0, 1],\n",
    "                  [0, 0, 0]\n",
    "             ])\n",
    "    return R_0"
   ]
  },
  {
   "cell_type": "code",
   "execution_count": 29,
   "metadata": {},
   "outputs": [
    {
     "name": "stdout",
     "output_type": "stream",
     "text": [
      "Matrix([[6.12323399573677e-17, -1.00000000000000, -6.12323399573677e-17, -2], [0, 6.12323399573677e-17, -1.00000000000000, 4], [1.00000000000000, 6.12323399573677e-17, 3.74939945665464e-33, 4], [0, 0, 0, 1]])\n"
     ]
    }
   ],
   "source": [
    "frame_b_frm_a =  rot_y(-90 * dtr).col_insert(3, Matrix([-2, 2, 4, 1]))\n",
    "frame_e_frm_b =  rot_x(90 * dtr).col_insert(3, Matrix([0, 2, 0, 1]))\n",
    "\n",
    "frame_e_frm_a = frame_b_frm_a * frame_e_frm_b\n",
    "print(frame_e_frm_a)"
   ]
  },
  {
   "cell_type": "code",
   "execution_count": 33,
   "metadata": {},
   "outputs": [
    {
     "name": "stdout",
     "output_type": "stream",
     "text": [
      "Matrix([[0, 0, 0, 0], [0, 0, 0, 0], [0, 0, 0, 0], [0, 0, 0, 0]])\n"
     ]
    }
   ],
   "source": [
    "frame_c_frm_a = zeroRotation().col_insert(3, Matrix([4, 4, 0, 1]))\n",
    "frame_d_frm_c = rot_x(90 * dtr).col_insert(3, Matrix([-3, 3, 2, 1]))\n",
    "frame_e_frm_d = rot_z(90 * dtr).col_insert(3, Matrix([-3, 2, 3, 1]))\n",
    "\n",
    "frame_e_frm_a_new = frame_c_frm_a * frame_d_frm_c * frame_e_frm_d\n",
    "\n",
    "print(frame_e_frm_a - frame_e_frm_a_new)\n"
   ]
  },
  {
   "cell_type": "code",
   "execution_count": null,
   "metadata": {},
   "outputs": [],
   "source": []
  }
 ],
 "metadata": {
  "kernelspec": {
   "display_name": "Python 3",
   "language": "python",
   "name": "python3"
  },
  "language_info": {
   "codemirror_mode": {
    "name": "ipython",
    "version": 3
   },
   "file_extension": ".py",
   "mimetype": "text/x-python",
   "name": "python",
   "nbconvert_exporter": "python",
   "pygments_lexer": "ipython3",
   "version": "3.8.2"
  }
 },
 "nbformat": 4,
 "nbformat_minor": 4
}

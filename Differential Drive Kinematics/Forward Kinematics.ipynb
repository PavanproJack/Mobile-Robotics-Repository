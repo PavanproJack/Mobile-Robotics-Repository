{
 "cells": [
  {
   "cell_type": "markdown",
   "metadata": {},
   "source": [
    "# Differential Drive Robot Forward Kinematics"
   ]
  },
  {
   "cell_type": "code",
   "execution_count": 3,
   "metadata": {},
   "outputs": [],
   "source": [
    "import numpy as np\n",
    "import matplotlib.pyplot as plt"
   ]
  },
  {
   "cell_type": "code",
   "execution_count": 2,
   "metadata": {},
   "outputs": [],
   "source": [
    "\n",
    "def diffDrive(x, y, theta, vr, vl, l, t):\n",
    "    #Straight Line Trajectory\n",
    "    if(vr == vl):\n",
    "        x_n = x + vr*t*np.cos(theta)\n",
    "        y_n = y + vr*t*np.sin(theta)\n",
    "        theta_n = theta\n",
    "    \n",
    "    #Circular Trajectory    \n",
    "    else:\n",
    "        #Instantaneous Center of Curvature (ICC)\n",
    "        # Let R be the radius from ICC\n",
    "        # and l be the distance between the wheels\n",
    "        \n",
    "        R = (l/2) * ((vr + vl) / (vr - vl))\n",
    "        \n",
    "        ICC_x, ICC_y = x - R*np.sin(theta), y + R*np.cos(theta)\n",
    "        \n",
    "        #Change in Theta is proportional to the difference between vr and vl\n",
    "        omega = (vr - vl) / l\n",
    "        delta_Theta = omega * t\n",
    "        \n",
    "        x_n = (x - ICC_x) * np.cos(delta_Theta) - (y - ICC_y) * np.sin(delta_Theta) + ICC_x\n",
    "        y_n = (x - ICC_x) * np.sin(delta_Theta) + (y - ICC_y) * np.cos(delta_Theta) + ICC_y\n",
    "        theta_n = theta + delta_Theta\n",
    "        \n",
    "    return x_n, y_n, theta_n\n",
    "    "
   ]
  },
  {
   "cell_type": "code",
   "execution_count": 18,
   "metadata": {},
   "outputs": [
    {
     "data": {
      "image/png": "[encoded data removed]",
      "text/plain": [
       "<Figure size 864x360 with 1 Axes>"
      ]
     },
     "metadata": {
      "needs_background": "light"
     },
     "output_type": "display_data"
    }
   ],
   "source": [
    "#Assuming distance between the wheels is 0.5m and \n",
    "#let the initial pose of the robot be (1.5, 2.0, pi/2)\n",
    "\n",
    "x, y, theta = 1.5, 2.0, (np.pi)/2\n",
    "l = 0.5\n",
    "# plot the starting position\n",
    "figure = plt.figure(figsize = (12,5))\n",
    "#plt.gca().set_aspect('equal')\n",
    "plt.quiver(x, y, np.cos(theta), np.sin(theta))\n",
    "\n",
    "\n",
    "#Now let a set of steering commands (vr, vl, t) be issued to the robot and calculte and plot its final pose\n",
    "#Command:I: vl = 0.3m/s, vr = 0.3m/s, t = 3s \n",
    "\n",
    "vr, vl, t = 0.3, 0.3, 3\n",
    "x, y, theta = diffDrive(x, y, theta, vr, vl, l, t)\n",
    "plt.quiver(x, y, np.cos(theta), np.sin(theta))\n",
    "\n",
    "#Command:II: vl = 0.1m/s, vr = -0.1m/s, t = 1s \n",
    "\n",
    "vr, vl, t = -0.1, 0.1, 1\n",
    "x, y, theta = diffDrive(x, y, theta, vr, vl, l, t)\n",
    "plt.quiver(x, y, np.cos(theta), np.sin(theta))\n",
    "\n",
    "#Command:III: vl = 0.2m/s, vr = 0m/s, t = 2s \n",
    "\n",
    "vr, vl, t = 0, 0.2, 2\n",
    "x, y, theta = diffDrive(x, y, theta, vr, vl, l, t)\n",
    "plt.quiver(x, y, np.cos(theta), np.sin(theta))\n",
    "\n",
    "plt.xlim([0.5, 2.5])\n",
    "plt.ylim([1.5, 3.5])\n",
    "plt.show()\n",
    "\n"
   ]
  },
  {
   "cell_type": "code",
   "execution_count": null,
   "metadata": {},
   "outputs": [],
   "source": []
  },
  {
   "cell_type": "code",
   "execution_count": null,
   "metadata": {},
   "outputs": [],
   "source": []
  }
 ],
 "metadata": {
  "kernelspec": {
   "display_name": "Python 3",
   "language": "python",
   "name": "python3"
  },
  "language_info": {
   "codemirror_mode": {
    "name": "ipython",
    "version": 3
   },
   "file_extension": ".py",
   "mimetype": "text/x-python",
   "name": "python",
   "nbconvert_exporter": "python",
   "pygments_lexer": "ipython3",
   "version": "3.8.2"
  }
 },
 "nbformat": 4,
 "nbformat_minor": 4
}

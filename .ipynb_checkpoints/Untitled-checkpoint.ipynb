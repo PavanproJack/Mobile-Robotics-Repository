{
 "cells": [
  {
   "cell_type": "markdown",
   "metadata": {},
   "source": [
    "# Rotation Matrices in Sympy"
   ]
  },
  {
   "cell_type": "code",
   "execution_count": 7,
   "metadata": {},
   "outputs": [],
   "source": [
    "from sympy import cos, sin, pi, simplify, symbols\n",
    "from sympy.matrices import Matrix\n",
    "import numpy as np"
   ]
  },
  {
   "cell_type": "code",
   "execution_count": 14,
   "metadata": {},
   "outputs": [],
   "source": [
    "#Degrees to Radians\n",
    "dtr = np.pi/180\n",
    "#Radians to Degrees\n",
    "rtd = 180 / np.pi\n",
    "\n",
    "#  Joint angles\n",
    "q1, q2, q3, q4 = symbols('q1:5')\n",
    "\n",
    "# Define Rotation Matrices around X, Y, and Z\n",
    "R_x = Matrix([[1,    0,         0 ],\n",
    "              [0,   cos(q1), -sin(q1)],\n",
    "              [0,   sin(q1),  cos(q1)]\n",
    "             ])\n",
    "\n",
    "R_y = Matrix([[cos(q2),    0,   sin(q2)],\n",
    "              [   0    ,   1 ,    0    ],\n",
    "              [-sin(q2) ,  0  , cos(q2)]\n",
    "             ])\n",
    "\n",
    "R_z = Matrix([[cos(q3),  -sin(q3),   0],\n",
    "              [sin(q3) , cos(q3)  ,  0],\n",
    "              [  0      ,   0      , 0],\n",
    "             ])\n"
   ]
  },
  {
   "cell_type": "code",
   "execution_count": 16,
   "metadata": {},
   "outputs": [
    {
     "name": "stdout",
     "output_type": "stream",
     "text": [
      "Matrix([[1.00000000000000, 0, 0], [0, 0.707106781186548, -0.707106781186547], [0, 0.707106781186547, 0.707106781186548]]) Matrix([[0.500000000000000, 0, 0.866025403784439], [0, 1.00000000000000, 0], [-0.866025403784439, 0, 0.500000000000000]]) Matrix([[0.258819045102521, -0.965925826289068, 0], [0.965925826289068, 0.258819045102521, 0], [0, 0, 0]])\n"
     ]
    }
   ],
   "source": [
    "x_Rot, y_Rot, z_Rot = R_x.evalf(subs = {q1: 45*dtr}), R_y.evalf(subs = {q2: 60*dtr}), R_z.evalf(subs = {q3: 75*dtr})\n",
    "print(x_Rot, y_Rot, z_Rot)"
   ]
  },
  {
   "cell_type": "markdown",
   "metadata": {},
   "source": [
    "# Euler Angles from a Rotation Matrix"
   ]
  }
 ],
 "metadata": {
  "kernelspec": {
   "display_name": "Python 3",
   "language": "python",
   "name": "python3"
  },
  "language_info": {
   "codemirror_mode": {
    "name": "ipython",
    "version": 3
   },
   "file_extension": ".py",
   "mimetype": "text/x-python",
   "name": "python",
   "nbconvert_exporter": "python",
   "pygments_lexer": "ipython3",
   "version": "3.8.2"
  }
 },
 "nbformat": 4,
 "nbformat_minor": 4
}

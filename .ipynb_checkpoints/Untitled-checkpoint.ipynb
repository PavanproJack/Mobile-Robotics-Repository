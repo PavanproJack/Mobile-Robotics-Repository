{
 "cells": [
  {
   "cell_type": "markdown",
   "metadata": {},
   "source": [
    "# Rotation Matrices in Sympy"
   ]
  },
  {
   "cell_type": "code",
   "execution_count": 8,
   "metadata": {},
   "outputs": [],
   "source": [
    "from sympy import cos, sin, pi, simplify, symbols, sqrt, atan2\n",
    "from sympy.matrices import Matrix\n",
    "import numpy as np"
   ]
  },
  {
   "cell_type": "code",
   "execution_count": 3,
   "metadata": {},
   "outputs": [],
   "source": [
    "#Degrees to Radians\n",
    "dtr = np.pi/180\n",
    "#Radians to Degrees\n",
    "rtd = 180 / np.pi\n",
    "\n",
    "#  Joint angles\n",
    "q1, q2, q3, q4 = symbols('q1:5')\n",
    "\n",
    "# Define Rotation Matrices around X, Y, and Z\n",
    "R_x = Matrix([[1,    0,         0 ],\n",
    "              [0,   cos(q1), -sin(q1)],\n",
    "              [0,   sin(q1),  cos(q1)]\n",
    "             ])\n",
    "\n",
    "R_y = Matrix([[cos(q2),    0,   sin(q2)],\n",
    "              [   0    ,   1 ,    0    ],\n",
    "              [-sin(q2) ,  0  , cos(q2)]\n",
    "             ])\n",
    "\n",
    "R_z = Matrix([[cos(q3),  -sin(q3),   0],\n",
    "              [sin(q3) , cos(q3)  ,  0],\n",
    "              [  0      ,   0      , 0],\n",
    "             ])\n"
   ]
  },
  {
   "cell_type": "code",
   "execution_count": 4,
   "metadata": {},
   "outputs": [
    {
     "name": "stdout",
     "output_type": "stream",
     "text": [
      "Matrix([[1.00000000000000, 0, 0], [0, 0.707106781186548, -0.707106781186547], [0, 0.707106781186547, 0.707106781186548]]) Matrix([[0.500000000000000, 0, 0.866025403784439], [0, 1.00000000000000, 0], [-0.866025403784439, 0, 0.500000000000000]]) Matrix([[0.258819045102521, -0.965925826289068, 0], [0.965925826289068, 0.258819045102521, 0], [0, 0, 0]])\n"
     ]
    }
   ],
   "source": [
    "x_Rot, y_Rot, z_Rot = R_x.evalf(subs = {q1: 45*dtr}), R_y.evalf(subs = {q2: 60*dtr}), R_z.evalf(subs = {q3: 75*dtr})\n",
    "print(x_Rot, y_Rot, z_Rot)"
   ]
  },
  {
   "cell_type": "markdown",
   "metadata": {},
   "source": [
    "# Composition of Rotations"
   ]
  },
  {
   "cell_type": "code",
   "execution_count": 7,
   "metadata": {},
   "outputs": [
    {
     "name": "stdout",
     "output_type": "stream",
     "text": [
      "Matrix([[0.353553390593274, -0.612372435695795, 0], [0.866025403784439, 0.500000000000000, 0], [-0.353553390593274, 0.612372435695794, 0]])\n",
      "Matrix([[0.353553390593274, -0.866025403784439, 0.353553390593274], [0.612372435695795, 0.500000000000000, 0.612372435695794], [0, 0, 0]])\n"
     ]
    }
   ],
   "source": [
    "#Intrinsic Rotations\n",
    "#YZ_intrinsic = symbols('YZ_intrinsic')\n",
    "\n",
    "YZ_intrinsic = R_y.evalf(subs = {q2: 45*dtr}) * R_z.evalf(subs = {q3: 60*dtr})\n",
    "\n",
    "print(YZ_intrinsic)\n",
    "\n",
    "\n",
    "YZ_extrinsic = R_z.evalf(subs = {q3: 60*dtr}) * R_y.evalf(subs = {q2: 45*dtr})\n",
    "print(YZ_extrinsic)\n"
   ]
  },
  {
   "cell_type": "markdown",
   "metadata": {},
   "source": [
    "# Euler Angles from a Rotation Matrix"
   ]
  },
  {
   "cell_type": "code",
   "execution_count": 10,
   "metadata": {},
   "outputs": [
    {
     "name": "stdout",
     "output_type": "stream",
     "text": [
      "45.0000000000000 60.0000000000000 30.0000000000000\n"
     ]
    }
   ],
   "source": [
    "# Extrinsic (Fixed Axis) X-Y-Z Rotation Matrix\n",
    "R_XYZ = Matrix([[ 0.353553390593274, -0.306186217847897, 0.883883476483184],\n",
    "            [ 0.353553390593274,  0.918558653543692, 0.176776695296637],\n",
    "            [-0.866025403784439,               0.25, 0.433012701892219]])\n",
    "\n",
    "# beta = atan2(-r31, sqrt(r11*r11  +  r21*r21))\n",
    "# alpha = atan2(r21, r11)\n",
    "# gamma = atan2(r32, r33)\n",
    "\n",
    "'''r11 = 0.353553390593274\n",
    "r21 = 0.353553390593274\n",
    "r31 = -0.866025403784439\n",
    "r32 = 0.25\n",
    "r33 = 0.433012701892219'''\n",
    "\n",
    "r11 = R_XYZ[0, 0]\n",
    "r21 = R_XYZ[1, 0]\n",
    "r31 = R_XYZ[2, 0]\n",
    "r32 = R_XYZ[2, 1]\n",
    "r33 = R_XYZ[2, 2]\n",
    "\n",
    "beta = atan2(-r31, sqrt(r11 * r11  +  r21 * r21))\n",
    "alpha = atan2(r21, r11)\n",
    "gamma = atan2(r32, r33)\n",
    "\n",
    "print(alpha * rtd, beta * rtd, gamma * rtd)"
   ]
  },
  {
   "cell_type": "code",
   "execution_count": null,
   "metadata": {},
   "outputs": [],
   "source": []
  }
 ],
 "metadata": {
  "kernelspec": {
   "display_name": "Python 3",
   "language": "python",
   "name": "python3"
  },
  "language_info": {
   "codemirror_mode": {
    "name": "ipython",
    "version": 3
   },
   "file_extension": ".py",
   "mimetype": "text/x-python",
   "name": "python",
   "nbconvert_exporter": "python",
   "pygments_lexer": "ipython3",
   "version": "3.8.2"
  }
 },
 "nbformat": 4,
 "nbformat_minor": 4
}
